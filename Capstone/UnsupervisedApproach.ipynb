{
 "cells": [
  {
   "cell_type": "markdown",
   "metadata": {},
   "source": [
    "# Google's Landmark Retrieval Challenge\n",
    "\n",
    "**Goal**: Given over a million images of 15K classes, you need to classify them correctly as they lack labels. Such that given a test image, it should be able to retrieve images that belong to similar class.\n",
    "\n",
    "[Kaggle Challenge](https://www.kaggle.com/c/landmark-retrieval-challenge)\n",
    "[Amazing resource](https://blog.keras.io/building-autoencoders-in-keras.html)"
   ]
  },
  {
   "cell_type": "code",
   "execution_count": null,
   "metadata": {},
   "outputs": [],
   "source": [
    "import pandas as pd\n",
    "import urllib\n",
    "import shutil\n",
    "import cv2\n",
    "import os\n",
    "import numpy as np\n",
    "from keras.preprocessing import image     "
   ]
  },
  {
   "cell_type": "code",
   "execution_count": null,
   "metadata": {},
   "outputs": [],
   "source": [
    "#STEP #1: Download images\n",
    "train_data = pd.read_csv(\"index.csv\")\n",
    "test_data = pd.read_csv(\"test.csv\")\n",
    "\n",
    "#print(\"Shape of training set = \", train_data.shape)\n",
    "#print(\"Shape of testing set = \", test_data.shape)\n",
    "\n",
    "def download_images(csv_file, outputpath, img_file_type):\n",
    "    if not os.path.isdir(outputpath):\n",
    "        os.makedirs(outputpath, exist_ok=True)\n",
    "    \n",
    "    count = 0\n",
    "    for index, row in csv_file.iterrows():\n",
    "        img_id = row['id']\n",
    "        img_url = row['url']\n",
    "        img_title = outputpath + '/' +img_id + '.' + img_file_type\n",
    "        if index < 20:\n",
    "            try:\n",
    "                urllib.request.urlretrieve(img_url,img_title) # saves local copy of images\n",
    "                count += 1\n",
    "            except:\n",
    "                print(img_id + \"<-- couldn't retrieve IMAGE for this id!!\")\n",
    "        else:\n",
    "            print(\"Downloaded ==> \" + str(count) + \" files!\") \n",
    "            return"
   ]
  },
  {
   "cell_type": "code",
   "execution_count": null,
   "metadata": {},
   "outputs": [],
   "source": [
    "#download_images( train_data, 'train','jpg')\n",
    "#download_images(test_data, 'test','jpg')"
   ]
  },
  {
   "cell_type": "code",
   "execution_count": null,
   "metadata": {},
   "outputs": [],
   "source": [
    "def load_dataset(inputpath):\n",
    "    list_of_tensors = []\n",
    "    for dirpath, dirnames, filenames in os.walk(inputpath):\n",
    "        #print(\"Files in this '\" + inputpath + \"' dir is \" + str(len(filenames)))\n",
    "        for filename in filenames:\n",
    "            img_path = os.path.join(dirpath,filename)\n",
    "            img = image.load_img(img_path, target_size=(224,224))#,grayscale=True) #rescaling images to 224x224\n",
    "            x = image.img_to_array(img)\n",
    "            list_of_tensors.append(np.expand_dims(x, axis=0))\n",
    "    return np.vstack(list_of_tensors)"
   ]
  },
  {
   "cell_type": "code",
   "execution_count": null,
   "metadata": {},
   "outputs": [],
   "source": [
    "from keras.layers import Input, Dense\n",
    "from keras.models import Model\n",
    "from keras import regularizers\n",
    "\n",
    "# this is the size of our encoded representations\n",
    "encoding_dim = 6000  # 6000 floats -> compression of factor 25.088, assuming the input is 150528 floats\n",
    "\n",
    "# this is our input placeholder\n",
    "input_img = Input(shape=(150528,))\n",
    "encoded = Dense(encoding_dim, activation='relu')(input_img)\n",
    "decoded = Dense(150528, activation='sigmoid')(encoded)\n",
    "\n",
    "# this model maps an input to its reconstruction\n",
    "autoencoder = Model(input_img, decoded)"
   ]
  },
  {
   "cell_type": "code",
   "execution_count": null,
   "metadata": {},
   "outputs": [],
   "source": [
    "# this model maps an input to its encoded representation\n",
    "encoder = Model(input_img, encoded)\n",
    "\n",
    "# # create a placeholder for an encoded (32-dimensional) input\n",
    "encoded_input = Input(shape=(encoding_dim,))\n",
    "# # retrieve the last layer of the autoencoder model\n",
    "decoder_layer = autoencoder.layers[-1]\n",
    "# # create the decoder model\n",
    "decoder = Model(encoded_input, decoder_layer(encoded_input))"
   ]
  },
  {
   "cell_type": "code",
   "execution_count": null,
   "metadata": {},
   "outputs": [],
   "source": [
    "autoencoder.compile(optimizer='adadelta', loss='binary_crossentropy')"
   ]
  },
  {
   "cell_type": "code",
   "execution_count": null,
   "metadata": {},
   "outputs": [],
   "source": [
    "x_train = load_dataset('train')\n",
    "x_test = load_dataset('test')\n",
    "\n",
    "#We will normalize all values between 0 and 1 and we will flatten the 224x224x3 images into vectors of size 150528.\n",
    "x_train_f = x_train.astype('float32')/255 \n",
    "x_test_f = x_test.astype('float32')/255\n",
    "# Convert 4D (numOfRows, 224, 224, 3) ==> (224x224x3)\n",
    "x_train_f = x_train_f.reshape((len(x_train_f), np.prod(x_train_f.shape[1:])))\n",
    "x_test_f = x_test_f.reshape((len(x_test_f), np.prod(x_test_f.shape[1:])))\n",
    "\n",
    "print(\"Training set: \", x_train_f.shape)\n",
    "print(\"Testing set: \", x_test_f.shape)"
   ]
  },
  {
   "cell_type": "code",
   "execution_count": null,
   "metadata": {},
   "outputs": [],
   "source": [
    "import tensorflow as tf\n",
    "init = tf.global_variables_initializer()\n",
    "session = tf.Session()\n",
    "session.run(init)"
   ]
  },
  {
   "cell_type": "code",
   "execution_count": null,
   "metadata": {},
   "outputs": [],
   "source": [
    "autoencoder.fit(x_train_f, x_train_f, epochs=10, batch_size=500,  shuffle=True, validation_data=(x_test_f, x_test_f))"
   ]
  },
  {
   "cell_type": "code",
   "execution_count": null,
   "metadata": {},
   "outputs": [],
   "source": [
    "# encode and decode some images\n",
    "# note that we take them from the *test* set\n",
    "encoded_imgs = encoder.predict(x_test_f)\n",
    "decoded_imgs = decoder.predict(encoded_imgs)\n",
    "#print(encoded_imgs.shape)\n",
    "\n",
    "decoded_imgs = autoencoder.predict(x_test_f)\n",
    "#print(decoded_imgs.shape)\n",
    "#print(x_test_f.shape)"
   ]
  },
  {
   "cell_type": "code",
   "execution_count": null,
   "metadata": {},
   "outputs": [],
   "source": [
    "import matplotlib.pyplot as plt\n",
    "\n",
    "n = 5  # how many digits we will display\n",
    "plt.figure(figsize=(20, 4))\n",
    "for i in range(n):\n",
    "    # display original\n",
    "    ax = plt.subplot(2, n, i + 1)\n",
    "    plt.imshow(x_test_f[i].reshape(128, 128,3))\n",
    "    plt.gray()\n",
    "    ax.get_xaxis().set_visible(False)\n",
    "    ax.get_yaxis().set_visible(False)\n",
    "\n",
    "    # display reconstruction\n",
    "    ax = plt.subplot(2, n, i + 1 + n)\n",
    "    plt.imshow(decoded_imgs[i].reshape(128, 128,3))\n",
    "    plt.gray()\n",
    "    ax.get_xaxis().set_visible(False)\n",
    "    ax.get_yaxis().set_visible(False)\n",
    "plt.show()"
   ]
  },
  {
   "cell_type": "code",
   "execution_count": null,
   "metadata": {},
   "outputs": [],
   "source": []
  }
 ],
 "metadata": {
  "kernelspec": {
   "display_name": "Python 3",
   "language": "python",
   "name": "python3"
  },
  "language_info": {
   "codemirror_mode": {
    "name": "ipython",
    "version": 3
   },
   "file_extension": ".py",
   "mimetype": "text/x-python",
   "name": "python",
   "nbconvert_exporter": "python",
   "pygments_lexer": "ipython3",
   "version": "3.5.2"
  }
 },
 "nbformat": 4,
 "nbformat_minor": 2
}
