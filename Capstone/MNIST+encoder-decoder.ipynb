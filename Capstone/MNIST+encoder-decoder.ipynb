{
 "cells": [
  {
   "cell_type": "code",
   "execution_count": 1,
   "metadata": {},
   "outputs": [
    {
     "name": "stderr",
     "output_type": "stream",
     "text": [
      "Using TensorFlow backend.\n"
     ]
    }
   ],
   "source": [
    "from keras.layers import Input, Dense\n",
    "from keras.models import Model\n",
    "\n",
    "# this is the size of our encoded representations\n",
    "encoding_dim = 32  # 32 floats -> compression of factor 24.5, assuming the input is 784 floats\n",
    "\n",
    "# this is our input placeholder\n",
    "input_img = Input(shape=(784,))\n",
    "# \"encoded\" is the encoded representation of the input\n",
    "encoded = Dense(encoding_dim, activation='relu')(input_img)\n",
    "# \"decoded\" is the lossy reconstruction of the input\n",
    "decoded = Dense(784, activation='sigmoid')(encoded)\n",
    "\n",
    "# this model maps an input to its reconstruction\n",
    "autoencoder = Model(input_img, decoded)"
   ]
  },
  {
   "cell_type": "code",
   "execution_count": 2,
   "metadata": {},
   "outputs": [],
   "source": [
    "# this model maps an input to its encoded representation\n",
    "encoder = Model(input_img, encoded)"
   ]
  },
  {
   "cell_type": "code",
   "execution_count": 3,
   "metadata": {},
   "outputs": [],
   "source": [
    "# create a placeholder for an encoded (32-dimensional) input\n",
    "encoded_input = Input(shape=(encoding_dim,))\n",
    "# retrieve the last layer of the autoencoder model\n",
    "decoder_layer = autoencoder.layers[-1]\n",
    "# create the decoder model\n",
    "decoder = Model(encoded_input, decoder_layer(encoded_input))"
   ]
  },
  {
   "cell_type": "code",
   "execution_count": 4,
   "metadata": {},
   "outputs": [],
   "source": [
    "autoencoder.compile(optimizer='adadelta', loss='binary_crossentropy')"
   ]
  },
  {
   "cell_type": "code",
   "execution_count": 5,
   "metadata": {},
   "outputs": [
    {
     "name": "stdout",
     "output_type": "stream",
     "text": [
      "Downloading data from https://s3.amazonaws.com/img-datasets/mnist.npz\n"
     ]
    }
   ],
   "source": [
    "from keras.datasets import mnist\n",
    "import numpy as np\n",
    "(x_train, _), (x_test, _) = mnist.load_data()\n"
   ]
  },
  {
   "cell_type": "code",
   "execution_count": 7,
   "metadata": {},
   "outputs": [
    {
     "name": "stdout",
     "output_type": "stream",
     "text": [
      "(60000, 784)\n",
      "(10000, 784)\n"
     ]
    }
   ],
   "source": [
    "x_train = x_train.astype('float32') / 255.\n",
    "x_test = x_test.astype('float32') / 255.\n",
    "x_train = x_train.reshape((len(x_train), np.prod(x_train.shape[1:])))\n",
    "x_test = x_test.reshape((len(x_test), np.prod(x_test.shape[1:])))\n",
    "print(x_train.shape)\n",
    "print(x_test.shape)"
   ]
  },
  {
   "cell_type": "code",
   "execution_count": 8,
   "metadata": {},
   "outputs": [
    {
     "name": "stdout",
     "output_type": "stream",
     "text": [
      "Train on 60000 samples, validate on 10000 samples\n",
      "Epoch 1/50\n",
      "60000/60000 [==============================] - 4s - loss: 0.3717 - val_loss: 0.2721\n",
      "Epoch 2/50\n",
      "60000/60000 [==============================] - 4s - loss: 0.2644 - val_loss: 0.2530\n",
      "Epoch 3/50\n",
      "60000/60000 [==============================] - 4s - loss: 0.2430 - val_loss: 0.2306\n",
      "Epoch 4/50\n",
      "60000/60000 [==============================] - 4s - loss: 0.2226 - val_loss: 0.2121\n",
      "Epoch 5/50\n",
      "60000/60000 [==============================] - 4s - loss: 0.2067 - val_loss: 0.1985\n",
      "Epoch 6/50\n",
      "60000/60000 [==============================] - 4s - loss: 0.1951 - val_loss: 0.1890\n",
      "Epoch 7/50\n",
      "60000/60000 [==============================] - 4s - loss: 0.1866 - val_loss: 0.1815\n",
      "Epoch 8/50\n",
      "60000/60000 [==============================] - 4s - loss: 0.1799 - val_loss: 0.1753\n",
      "Epoch 9/50\n",
      "60000/60000 [==============================] - 4s - loss: 0.1742 - val_loss: 0.1700\n",
      "Epoch 10/50\n",
      "60000/60000 [==============================] - 4s - loss: 0.1692 - val_loss: 0.1653\n",
      "Epoch 11/50\n",
      "60000/60000 [==============================] - 4s - loss: 0.1647 - val_loss: 0.1610\n",
      "Epoch 12/50\n",
      "60000/60000 [==============================] - 4s - loss: 0.1606 - val_loss: 0.1570\n",
      "Epoch 13/50\n",
      "60000/60000 [==============================] - 4s - loss: 0.1569 - val_loss: 0.1535\n",
      "Epoch 14/50\n",
      "60000/60000 [==============================] - 4s - loss: 0.1535 - val_loss: 0.1504\n",
      "Epoch 15/50\n",
      "60000/60000 [==============================] - 4s - loss: 0.1504 - val_loss: 0.1474\n",
      "Epoch 16/50\n",
      "60000/60000 [==============================] - 4s - loss: 0.1475 - val_loss: 0.1445\n",
      "Epoch 17/50\n",
      "60000/60000 [==============================] - 4s - loss: 0.1449 - val_loss: 0.1420\n",
      "Epoch 18/50\n",
      "60000/60000 [==============================] - 4s - loss: 0.1424 - val_loss: 0.1397\n",
      "Epoch 19/50\n",
      "60000/60000 [==============================] - 4s - loss: 0.1400 - val_loss: 0.1374\n",
      "Epoch 20/50\n",
      "60000/60000 [==============================] - 4s - loss: 0.1378 - val_loss: 0.1352\n",
      "Epoch 21/50\n",
      "60000/60000 [==============================] - 4s - loss: 0.1357 - val_loss: 0.1331\n",
      "Epoch 22/50\n",
      "60000/60000 [==============================] - 4s - loss: 0.1337 - val_loss: 0.1311\n",
      "Epoch 23/50\n",
      "60000/60000 [==============================] - 4s - loss: 0.1317 - val_loss: 0.1292\n",
      "Epoch 24/50\n",
      "60000/60000 [==============================] - 4s - loss: 0.1299 - val_loss: 0.1274\n",
      "Epoch 25/50\n",
      "60000/60000 [==============================] - 4s - loss: 0.1280 - val_loss: 0.1255\n",
      "Epoch 26/50\n",
      "60000/60000 [==============================] - 4s - loss: 0.1263 - val_loss: 0.1238\n",
      "Epoch 27/50\n",
      "60000/60000 [==============================] - 4s - loss: 0.1246 - val_loss: 0.1222\n",
      "Epoch 28/50\n",
      "60000/60000 [==============================] - 4s - loss: 0.1230 - val_loss: 0.1206\n",
      "Epoch 29/50\n",
      "60000/60000 [==============================] - 4s - loss: 0.1214 - val_loss: 0.1190\n",
      "Epoch 30/50\n",
      "60000/60000 [==============================] - 4s - loss: 0.1199 - val_loss: 0.1176\n",
      "Epoch 31/50\n",
      "60000/60000 [==============================] - 4s - loss: 0.1185 - val_loss: 0.1162\n",
      "Epoch 32/50\n",
      "60000/60000 [==============================] - 4s - loss: 0.1172 - val_loss: 0.1149\n",
      "Epoch 33/50\n",
      "60000/60000 [==============================] - 4s - loss: 0.1159 - val_loss: 0.1137\n",
      "Epoch 34/50\n",
      "60000/60000 [==============================] - 4s - loss: 0.1148 - val_loss: 0.1126\n",
      "Epoch 35/50\n",
      "60000/60000 [==============================] - 4s - loss: 0.1137 - val_loss: 0.1116\n",
      "Epoch 36/50\n",
      "60000/60000 [==============================] - 4s - loss: 0.1127 - val_loss: 0.1106\n",
      "Epoch 37/50\n",
      "60000/60000 [==============================] - 4s - loss: 0.1117 - val_loss: 0.1097\n",
      "Epoch 38/50\n",
      "60000/60000 [==============================] - 4s - loss: 0.1109 - val_loss: 0.1088\n",
      "Epoch 39/50\n",
      "60000/60000 [==============================] - 4s - loss: 0.1101 - val_loss: 0.1081\n",
      "Epoch 40/50\n",
      "60000/60000 [==============================] - 4s - loss: 0.1093 - val_loss: 0.1074\n",
      "Epoch 41/50\n",
      "60000/60000 [==============================] - 4s - loss: 0.1086 - val_loss: 0.1067\n",
      "Epoch 42/50\n",
      "60000/60000 [==============================] - 4s - loss: 0.1080 - val_loss: 0.1061\n",
      "Epoch 43/50\n",
      "60000/60000 [==============================] - 4s - loss: 0.1074 - val_loss: 0.1055\n",
      "Epoch 44/50\n",
      "60000/60000 [==============================] - 4s - loss: 0.1068 - val_loss: 0.1049\n",
      "Epoch 45/50\n",
      "60000/60000 [==============================] - 4s - loss: 0.1063 - val_loss: 0.1044\n",
      "Epoch 46/50\n",
      "60000/60000 [==============================] - 4s - loss: 0.1058 - val_loss: 0.1039\n",
      "Epoch 47/50\n",
      "60000/60000 [==============================] - 4s - loss: 0.1053 - val_loss: 0.1035\n",
      "Epoch 48/50\n",
      "60000/60000 [==============================] - 4s - loss: 0.1048 - val_loss: 0.1030\n",
      "Epoch 49/50\n",
      "60000/60000 [==============================] - 4s - loss: 0.1044 - val_loss: 0.1026\n",
      "Epoch 50/50\n",
      "60000/60000 [==============================] - 4s - loss: 0.1040 - val_loss: 0.1022\n"
     ]
    },
    {
     "data": {
      "text/plain": [
       "<keras.callbacks.History at 0x7f2309e53128>"
      ]
     },
     "execution_count": 8,
     "metadata": {},
     "output_type": "execute_result"
    }
   ],
   "source": [
    "autoencoder.fit(x_train, x_train,\n",
    "                epochs=50,\n",
    "                batch_size=256,\n",
    "                shuffle=True,\n",
    "                validation_data=(x_test, x_test))"
   ]
  },
  {
   "cell_type": "code",
   "execution_count": 9,
   "metadata": {},
   "outputs": [],
   "source": [
    "# encode and decode some digits\n",
    "# note that we take them from the *test* set\n",
    "encoded_imgs = encoder.predict(x_test)\n",
    "decoded_imgs = decoder.predict(encoded_imgs)"
   ]
  },
  {
   "cell_type": "code",
   "execution_count": 10,
   "metadata": {},
   "outputs": [
    {
     "data": {
      "image/png": "[encoded data removed]",
      "text/plain": [
       "<matplotlib.figure.Figure at 0x7f2306da3390>"
      ]
     },
     "metadata": {},
     "output_type": "display_data"
    }
   ],
   "source": [
    "# use Matplotlib (don't ask)\n",
    "import matplotlib.pyplot as plt\n",
    "\n",
    "n = 10  # how many digits we will display\n",
    "plt.figure(figsize=(20, 4))\n",
    "for i in range(n):\n",
    "    # display original\n",
    "    ax = plt.subplot(2, n, i + 1)\n",
    "    plt.imshow(x_test[i].reshape(28, 28))\n",
    "    plt.gray()\n",
    "    ax.get_xaxis().set_visible(False)\n",
    "    ax.get_yaxis().set_visible(False)\n",
    "\n",
    "    # display reconstruction\n",
    "    ax = plt.subplot(2, n, i + 1 + n)\n",
    "    plt.imshow(decoded_imgs[i].reshape(28, 28))\n",
    "    plt.gray()\n",
    "    ax.get_xaxis().set_visible(False)\n",
    "    ax.get_yaxis().set_visible(False)\n",
    "plt.show()"
   ]
  },
  {
   "cell_type": "code",
   "execution_count": null,
   "metadata": {},
   "outputs": [],
   "source": []
  }
 ],
 "metadata": {
  "kernelspec": {
   "display_name": "Python 3",
   "language": "python",
   "name": "python3"
  },
  "language_info": {
   "codemirror_mode": {
    "name": "ipython",
    "version": 3
   },
   "file_extension": ".py",
   "mimetype": "text/x-python",
   "name": "python",
   "nbconvert_exporter": "python",
   "pygments_lexer": "ipython3",
   "version": "3.5.2"
  }
 },
 "nbformat": 4,
 "nbformat_minor": 2
}
