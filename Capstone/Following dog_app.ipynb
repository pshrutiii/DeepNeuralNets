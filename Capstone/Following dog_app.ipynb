{
 "cells": [
  {
   "cell_type": "code",
   "execution_count": null,
   "metadata": {
    "collapsed": false
   },
   "outputs": [],
   "source": [
    "import pandas as pd\n",
    "import urllib\n",
    "import shutil\n",
    "import cv2\n",
    "import os\n",
    "import numpy as np\n",
    "from keras.preprocessing import image"
   ]
  },
  {
   "cell_type": "code",
   "execution_count": null,
   "metadata": {
    "collapsed": true
   },
   "outputs": [],
   "source": [
    "def load_dataset(inputpath):\n",
    "    list_of_tensors = []\n",
    "    for dirpath, dirnames, filenames in os.walk(inputpath):\n",
    "        #print(\"Files in this '\" + inputpath + \"' dir is \" + str(len(filenames)))\n",
    "        for filename in filenames:\n",
    "            img_path = os.path.join(dirpath,filename)\n",
    "            img = image.load_img(img_path, target_size=(224,224))#,grayscale=True) #rescaling images to 224x224\n",
    "            x = image.img_to_array(img)\n",
    "            list_of_tensors.append(np.expand_dims(x, axis=0))\n",
    "    return np.vstack(list_of_tensors)"
   ]
  },
  {
   "cell_type": "code",
   "execution_count": null,
   "metadata": {
    "collapsed": false
   },
   "outputs": [],
   "source": [
    "x_train = load_dataset('train')\n",
    "x_test = load_dataset('test')\n",
    "\n",
    "print(x_train.shape)\n",
    "print(x_test.shape)"
   ]
  },
  {
   "cell_type": "code",
   "execution_count": null,
   "metadata": {
    "collapsed": true
   },
   "outputs": [],
   "source": [
    "from keras.applications.resnet50 import ResNet50, preprocess_input, decode_predictions\n",
    "\n",
    "# define ResNet50 model\n",
    "ResNet50_model = ResNet50(weights='imagenet')\n",
    "\n",
    "def ResNet50_predict_labels(x_train):\n",
    "    # returns prediction vector for image located at img_path\n",
    "    img = preprocess_input(x_train)\n",
    "    return np.argmax(ResNet50_model.predict(img))\n",
    "\n",
    "print(ResNet50_predict_labels(x_train))"
   ]
  },
  {
   "cell_type": "code",
   "execution_count": null,
   "metadata": {
    "collapsed": true
   },
   "outputs": [],
   "source": [
    "#We will normalize all values between 0 and 1 and we will flatten the 224x224x3 images into vectors of size 150528.\n",
    "x_train_f = x_train.astype('float32')/255 \n",
    "x_test_f = x_test.astype('float32')/255\n",
    "\n",
    "# Convert 4D (numOfRows, 224, 224, 3) ==> (224x224x3)\n",
    "x_train_f = x_train_f.reshape((len(x_train_f), np.prod(x_train_f.shape[1:])))\n",
    "x_test_f = x_test_f.reshape((len(x_test_f), np.prod(x_test_f.shape[1:])))\n",
    "\n",
    "print(\"Training set: \", x_train_f.shape)\n",
    "print(\"Testing set: \", x_test_f.shape)"
   ]
  },
  {
   "cell_type": "code",
   "execution_count": null,
   "metadata": {
    "collapsed": false
   },
   "outputs": [],
   "source": [
    "#Implementing basic CNN from scratch\n",
    "from keras.layers import Conv2D, MaxPooling2D, GlobalAveragePooling2D\n",
    "from keras.layers import Dropout, Flatten, Dense\n",
    "from keras.models import Sequential\n",
    "\n",
    "numOfLabels = 200 #random number guess!! \n",
    "\n",
    "cnn = Sequential()\n",
    "cnn.add(Conv2D(filters=16, kernel_size=2, padding='same', activation='relu', input_shape=(224,224,3)))\n",
    "cnn.add(MaxPooling2D(pool_size=2))\n",
    "cnn.add(Conv2D(filters=32, kernel_size=2, padding='same', activation='relu'))\n",
    "cnn.add(MaxPooling2D(pool_size=2))\n",
    "cnn.add(Conv2D(filters=64, kernel_size=2, padding='same', activation='relu'))\n",
    "cnn.add(MaxPooling2D(pool_size=2))\n",
    "cnn.add(GlobalAveragePooling2D())\n",
    "cnn.add(Dense(numOfLabels, activation='softmax'))\n",
    "\n",
    "cnn.summary()"
   ]
  },
  {
   "cell_type": "code",
   "execution_count": null,
   "metadata": {
    "collapsed": false
   },
   "outputs": [],
   "source": [
    "cnn.compile(optimizer='rmsprop', loss='categorical_crossentropy', metrics=['accuracy'])"
   ]
  },
  {
   "cell_type": "code",
   "execution_count": null,
   "metadata": {
    "collapsed": true
   },
   "outputs": [],
   "source": [
    "from keras.callbacks import ModelCheckpoint  \n",
    "\n",
    "epochs = 10\n",
    "checkpointer = ModelCheckpoint(filepath='weights.best.from_scratch.hdf5', \n",
    "                               verbose=1, save_best_only=True)\n",
    "\n",
    "cnn.fit(x_train_f, x_train_f, \n",
    "          validation_data=(x_test_f, x_test_f),\n",
    "          epochs=epochs, batch_size=20, callbacks=[checkpointer], verbose=1)"
   ]
  },
  {
   "cell_type": "code",
   "execution_count": null,
   "metadata": {
    "collapsed": true
   },
   "outputs": [],
   "source": [
    "model.load_weights('weights.best.from_scratch.hdf5')"
   ]
  },
  {
   "cell_type": "code",
   "execution_count": null,
   "metadata": {
    "collapsed": true
   },
   "outputs": [],
   "source": [
    "# get index of predicted dog breed for each image in test set\n",
    "dog_breed_predictions = [np.argmax(model.predict(np.expand_dims(tensor, axis=0))) for tensor in test_tensors]\n",
    "\n",
    "# report test accuracy\n",
    "test_accuracy = 100*np.sum(np.array(dog_breed_predictions)==np.argmax(test_targets, axis=1))/len(dog_breed_predictions)\n",
    "print('Test accuracy: %.4f%%' % test_accuracy)"
   ]
  }
 ],
 "metadata": {
  "kernelspec": {
   "display_name": "Python 3",
   "language": "python",
   "name": "python3"
  },
  "language_info": {
   "codemirror_mode": {
    "name": "ipython",
    "version": 3
   },
   "file_extension": ".py",
   "mimetype": "text/x-python",
   "name": "python",
   "nbconvert_exporter": "python",
   "pygments_lexer": "ipython3",
   "version": "3.6.4"
  }
 },
 "nbformat": 4,
 "nbformat_minor": 2
}
