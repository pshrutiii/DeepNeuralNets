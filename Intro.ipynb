{
 "cells": [
  {
   "cell_type": "markdown",
   "metadata": {},
   "source": [
    "# Neural Nets \n",
    ".... could be complicated to build from scratch but to simply, we have lots of packages, including the following:\n",
    "- Keras <br/>\n",
    "- TensorFlow <br/>\n",
    "- Caffe <br/>\n",
    "- Theano <br/>\n",
    "- Scikit-learn <br/>\n",
    "- And many others! <br/>"
   ]
  },
  {
   "cell_type": "markdown",
   "metadata": {},
   "source": [
    "## Keras\n",
    "\n",
    "Why Keras? --> Userfriendly, Modularity, easy extensibility, works with python <br/> \n",
    "Source: <br/>\n",
    "-  https://keras.io/  <br/>\n",
    "- https://keras.io/getting-started/functional-api-guide/ <br/>\n",
    "\n",
    "\n",
    "The core data structure of Keras is a **model**, a way to organize layers. SEQUENTIAL model is a simplest model that allows to linearly stack multiple layers.\n",
    "**Note: Keras requires the input shape to be specified in the first layer, but it will automatically infer the shape of all other layers. This means you only have to explicitly set the input dimensions for the first layer.**"
   ]
  },
  {
   "cell_type": "code",
   "execution_count": null,
   "metadata": {
    "collapsed": true
   },
   "outputs": [],
   "source": [
    "import numpy as np\n",
    "from keras.models import Sequential\n",
    "from keras.layers import Dense, Activation\n",
    "\n",
    "# X has shape (num_rows, num_cols), where the training data are stored as row vectors\n",
    "X = np.array([[0, 0], [0, 1], [1, 0], [1, 1]], dtype=np.float32)\n",
    "\n",
    "# y must have an output vector for each input vector\n",
    "y = np.array([[0], [0], [0], [1]], dtype=np.float32)\n",
    "\n",
    "model = Sequential()\n",
    "\n",
    "# 1st Layer - Add an input layer of 32 nodes with the same input shape as the training samples in X\n",
    "model.add(Dense(32, input_dim= X.shape[1]))\n",
    "model.add(Activation('softmax'))\n",
    "\n",
    "# 2nd Layer - Add a fully connected output layer\n",
    "model.add(Dense(1))\n",
    "model.add(Activation('sigmoid'))"
   ]
  },
  {
   "cell_type": "markdown",
   "metadata": {},
   "source": [
    "After the model is built, we need to COMPILE meaning calling the backend (tensorflow, theano, etc.) and bind the optimizer, loss function, metrics and other parameters required before the model can be run on any input data. \n",
    "\n",
    "Optimizer :: **adam** = which is a reasonable default when speed is a priority <br/>\n",
    "Loss function :: **categorical_crossentropy** =  which can be used when there are only two classes <br/>\n",
    "Metrics :: **accuracy** = any measurement used to evaluate the model\n",
    "\n",
    "Performing a **model.summary()** would show the resulting model's architecture"
   ]
  },
  {
   "cell_type": "code",
   "execution_count": null,
   "metadata": {
    "collapsed": true
   },
   "outputs": [],
   "source": [
    "model.compile(optimizer=\"adam\", loss=\"categorical_crossentropy\", metrics=[\"accuracy\"])"
   ]
  },
  {
   "cell_type": "code",
   "execution_count": null,
   "metadata": {
    "collapsed": true
   },
   "outputs": [],
   "source": [
    "model.fit(X, y, nb_epoch=1000, verbose=0)\n",
    "model.evaluate()"
   ]
  }
 ],
 "metadata": {
  "kernelspec": {
   "display_name": "Python 2",
   "language": "python",
   "name": "python2"
  },
  "language_info": {
   "codemirror_mode": {
    "name": "ipython",
    "version": 2
   },
   "file_extension": ".py",
   "mimetype": "text/x-python",
   "name": "python",
   "nbconvert_exporter": "python",
   "pygments_lexer": "ipython2",
   "version": "2.7.11"
  }
 },
 "nbformat": 4,
 "nbformat_minor": 2
}
